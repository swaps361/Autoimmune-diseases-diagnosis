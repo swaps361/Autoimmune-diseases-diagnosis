{
 "cells": [
  {
   "cell_type": "markdown",
   "id": "09730957",
   "metadata": {},
   "source": [
    "## Quantitative Analysis of Histopathological Images for Autoimmune Diseases Diagnosis"
   ]
  },
  {
   "cell_type": "markdown",
   "id": "dcb5c526",
   "metadata": {},
   "source": [
    "### Brief about the Autoimmune diseases"
   ]
  },
  {
   "cell_type": "code",
   "execution_count": null,
   "id": "7c24de07",
   "metadata": {},
   "outputs": [],
   "source": [
    "import matplotlib.pyplot as plt\n",
    "import matplotlib.image as mpimg\n",
    "\n",
    "# Load images\n",
    "img_lupus = mpimg.imread('Medical/Disease Images/Lupus.png')\n",
    "img_arthritis = mpimg.imread('Medical/Disease Images/Arthritis.png')\n",
    "img_sclerosis = mpimg.imread('Medical/Disease Images/Sclerosis.png')\n",
    "\n",
    "# Create a figure with a single row and three columns\n",
    "fig, axs = plt.subplots(1, 3, figsize=(12, 4))\n",
    "\n",
    "# Display each image\n",
    "axs[0].imshow(img_lupus)\n",
    "axs[0].set_title('Lupus')\n",
    "axs[0].axis('off')\n",
    "\n",
    "axs[1].imshow(img_arthritis)\n",
    "axs[1].set_title('Arthritis')\n",
    "axs[1].axis('off')\n",
    "\n",
    "axs[2].imshow(img_sclerosis)\n",
    "axs[2].set_title('Sclerosis')\n",
    "axs[2].axis('off')\n",
    "\n",
    "# Adjust layout and display\n",
    "plt.tight_layout()\n",
    "plt.show()"
   ]
  },
  {
   "cell_type": "markdown",
   "id": "5c8ac68f",
   "metadata": {},
   "source": [
    "### Importing Libraries"
   ]
  },
  {
   "cell_type": "code",
   "execution_count": null,
   "id": "8fcfc73f",
   "metadata": {},
   "outputs": [],
   "source": [
    "import os\n",
    "import cv2\n",
    "import numpy as np\n",
    "import matplotlib.pyplot as plt\n",
    "from sklearn.model_selection import train_test_split\n",
    "from sklearn.preprocessing import LabelEncoder\n",
    "from tensorflow.keras.applications import VGG16\n",
    "from tensorflow.keras.applications.vgg16 import preprocess_input\n",
    "from tensorflow.keras.models import Model, Sequential\n",
    "from tensorflow.keras.layers import Dense, Dropout, Flatten\n",
    "from tensorflow.keras.utils import to_categorical\n",
    "from tensorflow.keras.optimizers import Adam\n",
    "from tensorflow.keras.layers import  GlobalAveragePooling2D\n",
    "from tensorflow.keras.preprocessing.image import ImageDataGenerator\n",
    "from sklearn.metrics import classification_report, confusion_matrix\n",
    "from tensorflow.keras.applications import ResNet50\n",
    "from tensorflow.keras.applications.resnet import preprocess_input\n",
    "import seaborn as sns\n",
    "import warnings\n",
    "warnings.filterwarnings('always')\n",
    "warnings.filterwarnings('ignore')"
   ]
  },
  {
   "cell_type": "markdown",
   "id": "96a92d0f",
   "metadata": {},
   "source": [
    "### Data Collection"
   ]
  },
  {
   "cell_type": "code",
   "execution_count": null,
   "id": "ad29a616",
   "metadata": {},
   "outputs": [],
   "source": [
    "# Data directories\n",
    "data_dir = 'Medical'\n",
    "subdirectories = ['Lupus', 'Arthritis', 'Sclerosis']"
   ]
  },
  {
   "cell_type": "code",
   "execution_count": null,
   "id": "70ebae75",
   "metadata": {},
   "outputs": [],
   "source": [
    "fig, axs = plt.subplots(len(subdirectories), 3, figsize=(8, 8))\n",
    "\n",
    "for i, subdir in enumerate(subdirectories):\n",
    "    subdir_path = os.path.join(data_dir, subdir)\n",
    "    for j in range(3):\n",
    "        filename = os.listdir(subdir_path)[j]\n",
    "        img_path = os.path.join(subdir_path, filename)\n",
    "        img = cv2.imread(img_path)\n",
    "        img = cv2.cvtColor(img, cv2.COLOR_BGR2RGB)\n",
    "        axs[i, j].imshow(img)\n",
    "        axs[i, j].set_title(subdir)\n",
    "        axs[i, j].axis('off')\n",
    "\n",
    "plt.tight_layout()\n",
    "plt.show()"
   ]
  },
  {
   "cell_type": "markdown",
   "id": "53d35538",
   "metadata": {},
   "source": [
    "### Data Preprocessing"
   ]
  },
  {
   "cell_type": "code",
   "execution_count": null,
   "id": "3ba0b4a2",
   "metadata": {},
   "outputs": [],
   "source": [
    "cleaned_images = []\n",
    "\n",
    "for subdir in subdirectories:\n",
    "    subdir_path = os.path.join(data_dir, subdir)\n",
    "    for filename in os.listdir(subdir_path):\n",
    "        img_path = os.path.join(subdir_path, filename)\n",
    "        img = cv2.imread(img_path)\n",
    "        if img is not None:\n",
    "            # Apply Gaussian blur for noise removal\n",
    "            cleaned_img = cv2.GaussianBlur(img, (5, 5), 0)\n",
    "            cleaned_images.append((cleaned_img, subdir))\n",
    "        else:\n",
    "            print(f\"Could not read image: {img_path}\")\n"
   ]
  },
  {
   "cell_type": "code",
   "execution_count": null,
   "id": "bcba71c9",
   "metadata": {},
   "outputs": [],
   "source": [
    "# Preprocessing Function\n",
    "def preprocess_image(img):\n",
    "    # Resize the image to a desired size (e.g., 224x224)\n",
    "    resized_img = cv2.resize(img, (224, 224))\n",
    "    return resized_img"
   ]
  },
  {
   "cell_type": "code",
   "execution_count": null,
   "id": "a0132bd8",
   "metadata": {},
   "outputs": [],
   "source": [
    "# Apply Preprocessing to Cleaned Images\n",
    "preprocessed_images = []\n",
    "labels = []"
   ]
  },
  {
   "cell_type": "code",
   "execution_count": null,
   "id": "222cefd9",
   "metadata": {},
   "outputs": [],
   "source": [
    "for img, label in cleaned_images:\n",
    "    preprocessed_img = preprocess_image(img)\n",
    "    preprocessed_images.append(preprocessed_img)\n",
    "    labels.append(label)"
   ]
  },
  {
   "cell_type": "markdown",
   "id": "b1c64551",
   "metadata": {},
   "source": [
    "### Data Visualization"
   ]
  },
  {
   "cell_type": "code",
   "execution_count": null,
   "id": "09df82d5",
   "metadata": {
    "scrolled": false
   },
   "outputs": [],
   "source": [
    "# Display preprocessed images after Gaussian blur\n",
    "fig, axs = plt.subplots(len(subdirectories), 3, figsize=(8, 8))\n",
    "\n",
    "for i, subdir in enumerate(subdirectories):\n",
    "    subdir_preprocessed_images = [img for img, label in cleaned_images if label == subdir]\n",
    "    for j in range(3):\n",
    "        img = subdir_preprocessed_images[j]\n",
    "        img = cv2.cvtColor(img, cv2.COLOR_BGR2RGB)  # Convert BGR to RGB for displaying with matplotlib\n",
    "        axs[i, j].imshow(img)\n",
    "        axs[i, j].set_title(subdir)\n",
    "        axs[i, j].axis('off')\n",
    "\n",
    "plt.tight_layout()\n",
    "plt.show()"
   ]
  },
  {
   "cell_type": "code",
   "execution_count": null,
   "id": "02e34d58",
   "metadata": {},
   "outputs": [],
   "source": [
    "# Convert lists to numpy arrays\n",
    "preprocessed_images = np.array(preprocessed_images)\n",
    "labels = np.array(labels)"
   ]
  },
  {
   "cell_type": "code",
   "execution_count": null,
   "id": "bd3f1c81",
   "metadata": {},
   "outputs": [],
   "source": [
    "# Encode labels as integers\n",
    "label_encoder = LabelEncoder()\n",
    "encoded_labels = label_encoder.fit_transform(labels)"
   ]
  },
  {
   "cell_type": "code",
   "execution_count": null,
   "id": "fcd148f5",
   "metadata": {},
   "outputs": [],
   "source": [
    "# Convert encoded labels to categorical (one-hot encoding)\n",
    "categorical_labels = to_categorical(encoded_labels)"
   ]
  },
  {
   "cell_type": "code",
   "execution_count": null,
   "id": "b32437e5",
   "metadata": {},
   "outputs": [],
   "source": [
    "# Split the data into training and testing sets\n",
    "X_train, X_test, y_train, y_test = train_test_split(preprocessed_images, categorical_labels, test_size=0.2, random_state=42)"
   ]
  },
  {
   "cell_type": "code",
   "execution_count": null,
   "id": "03efac0e",
   "metadata": {},
   "outputs": [],
   "source": [
    "# Create an ImageDataGenerator for data augmentation\n",
    "datagen = ImageDataGenerator(\n",
    "    rotation_range=20,\n",
    "    width_shift_range=0.2,\n",
    "    height_shift_range=0.2,\n",
    "    shear_range=0.2,\n",
    "    zoom_range=0.2,\n",
    "    horizontal_flip=True,\n",
    "    fill_mode='nearest',\n",
    "    preprocessing_function=preprocess_input\n",
    ")"
   ]
  },
  {
   "cell_type": "code",
   "execution_count": null,
   "id": "c6ec040c",
   "metadata": {},
   "outputs": [],
   "source": [
    "# Apply data augmentation only to training data\n",
    "train_generator = datagen.flow(X_train, y_train, batch_size=32)"
   ]
  },
  {
   "cell_type": "markdown",
   "id": "38fcf639",
   "metadata": {},
   "source": [
    "### Model Evaluation"
   ]
  },
  {
   "cell_type": "code",
   "execution_count": null,
   "id": "91c17087",
   "metadata": {
    "scrolled": false
   },
   "outputs": [],
   "source": [
    "# Load VGG16 model without the top layer\n",
    "base_model = VGG16(weights='imagenet', include_top=False, input_shape=(224, 224, 3))\n",
    "base_model.summary()"
   ]
  },
  {
   "cell_type": "code",
   "execution_count": null,
   "id": "b6c2db04",
   "metadata": {},
   "outputs": [],
   "source": [
    "# Extract features for each preprocessed image using VGG16\n",
    "def extract_features(data, model):\n",
    "    features = model.predict(data)\n",
    "    return features"
   ]
  },
  {
   "cell_type": "code",
   "execution_count": null,
   "id": "702e7cea",
   "metadata": {},
   "outputs": [],
   "source": [
    "# Extract features for training and testing data\n",
    "train_features = []\n",
    "for img in X_train:\n",
    "    img = np.expand_dims(img, axis=0)  # Expand dimensions to match model input\n",
    "    img = preprocess_input(img)  # Preprocess the image for VGG16\n",
    "    feature = extract_features(img, base_model)\n",
    "    train_features.append(feature.flatten())"
   ]
  },
  {
   "cell_type": "code",
   "execution_count": null,
   "id": "42d651b2",
   "metadata": {},
   "outputs": [],
   "source": [
    "test_features = []\n",
    "for img in X_test:\n",
    "    img = np.expand_dims(img, axis=0)  # Expand dimensions to match model input\n",
    "    img = preprocess_input(img)  # Preprocess the image for VGG16\n",
    "    feature = extract_features(img, base_model)\n",
    "    test_features.append(feature.flatten())"
   ]
  },
  {
   "cell_type": "code",
   "execution_count": null,
   "id": "367cb7eb",
   "metadata": {},
   "outputs": [],
   "source": [
    "# Convert lists to numpy arrays\n",
    "train_features = np.array(train_features)\n",
    "test_features = np.array(test_features)"
   ]
  },
  {
   "cell_type": "code",
   "execution_count": null,
   "id": "cd52d9bf",
   "metadata": {},
   "outputs": [],
   "source": [
    "# Define the model\n",
    "model = Sequential([\n",
    "    Dense(512, activation='relu', input_shape=(train_features.shape[1],)),\n",
    "    Dropout(0.5),\n",
    "    Dense(256, activation='relu'),\n",
    "    Dropout(0.5),\n",
    "    Dense(len(subdirectories), activation='softmax')  # Output layer with number of classes\n",
    "])"
   ]
  },
  {
   "cell_type": "code",
   "execution_count": null,
   "id": "02d8d347",
   "metadata": {},
   "outputs": [],
   "source": [
    "# Compile the model\n",
    "model.compile(optimizer=Adam(learning_rate=0.0001), loss='categorical_crossentropy', metrics=['accuracy'])"
   ]
  },
  {
   "cell_type": "code",
   "execution_count": null,
   "id": "7ab868ff",
   "metadata": {},
   "outputs": [],
   "source": [
    "model.summary()"
   ]
  },
  {
   "cell_type": "code",
   "execution_count": null,
   "id": "f295738f",
   "metadata": {
    "scrolled": false
   },
   "outputs": [],
   "source": [
    "# Fit the model\n",
    "history = model.fit(\n",
    "    train_features, y_train,\n",
    "    epochs=20,\n",
    "    batch_size=30,\n",
    "    validation_data=(test_features, y_test)\n",
    ")"
   ]
  },
  {
   "cell_type": "code",
   "execution_count": null,
   "id": "cf739ece",
   "metadata": {},
   "outputs": [],
   "source": [
    "plt.figure(figsize=(14, 5))\n",
    "\n",
    "plt.subplot(1, 2, 1)\n",
    "plt.plot(history.history['accuracy'])\n",
    "plt.plot(history.history['val_accuracy'])\n",
    "plt.title('Model Accuracy')\n",
    "plt.xlabel('Epoch')\n",
    "plt.ylabel('Accuracy')\n",
    "plt.legend(['Train', 'Validation'], loc='upper left')\n",
    "plt.show()"
   ]
  },
  {
   "cell_type": "code",
   "execution_count": null,
   "id": "bc5ce7b6",
   "metadata": {},
   "outputs": [],
   "source": [
    "plt.figure(figsize=(14, 5))\n",
    "plt.subplot(1, 2, 2)\n",
    "plt.plot(history.history['loss'])\n",
    "plt.plot(history.history['val_loss'])\n",
    "plt.title('Model Loss')\n",
    "plt.xlabel('Epoch')\n",
    "plt.ylabel('Loss')\n",
    "plt.legend(['Train', 'Validation'], loc='upper right')\n",
    "plt.show()"
   ]
  },
  {
   "cell_type": "code",
   "execution_count": null,
   "id": "50f90495",
   "metadata": {},
   "outputs": [],
   "source": [
    "# Classification report and confusion matrix\n",
    "y_pred = model.predict(test_features)\n",
    "y_pred_classes = np.argmax(y_pred, axis=1)\n",
    "y_true_classes = np.argmax(y_test, axis=1)\n",
    "\n",
    "print(classification_report(y_true_classes, y_pred_classes, target_names=subdirectories))"
   ]
  },
  {
   "cell_type": "code",
   "execution_count": null,
   "id": "24475dd6",
   "metadata": {},
   "outputs": [],
   "source": [
    "conf_matrix = confusion_matrix(y_true_classes, y_pred_classes)\n",
    "sns.heatmap(conf_matrix, annot=True, xticklabels=subdirectories, yticklabels=subdirectories, cmap=\"Reds\")\n",
    "plt.xlabel('Predicted Labels')\n",
    "plt.ylabel('True Labels')\n",
    "plt.show()"
   ]
  },
  {
   "cell_type": "markdown",
   "id": "5cc636bf",
   "metadata": {},
   "source": [
    "## Analysis Using Patterns"
   ]
  },
  {
   "cell_type": "code",
   "execution_count": null,
   "id": "0f7503fd",
   "metadata": {},
   "outputs": [],
   "source": [
    "# Function to identify patterns\n",
    "def identify_patterns(img):\n",
    "    # Convert image to grayscale\n",
    "    gray = cv2.cvtColor(img, cv2.COLOR_BGR2GRAY)\n",
    "    # Threshold the image\n",
    "    _, thresh = cv2.threshold(gray, 200, 255, cv2.THRESH_BINARY)\n",
    "    # Find contours\n",
    "    contours, _ = cv2.findContours(thresh, cv2.RETR_EXTERNAL, cv2.CHAIN_APPROX_SIMPLE)\n",
    "    # Draw contours on the original image\n",
    "    pattern_img = cv2.drawContours(img.copy(), contours, -1, (0, 255, 0), 3)\n",
    "    return pattern_img"
   ]
  },
  {
   "cell_type": "code",
   "execution_count": null,
   "id": "10b6358e",
   "metadata": {},
   "outputs": [],
   "source": [
    "# Function to display identified patterns\n",
    "num_images_per_directory = 5 \n",
    "# Calculate number of rows and columns for subplots\n",
    "num_rows = len(subdirectories)\n",
    "num_cols = num_images_per_directory\n",
    "\n",
    "fig, axs = plt.subplots(num_rows, num_cols, figsize=(3 * num_cols, 3 * num_rows))\n",
    "\n",
    "for i, subdir in enumerate(subdirectories):\n",
    "    subdir_images = preprocessed_images[labels == subdir][:num_images_per_directory]\n",
    "    for j in range(num_images_per_directory):\n",
    "        img = subdir_images[j]\n",
    "        pattern_img = identify_patterns(cv2.cvtColor((img * 255).astype(np.uint8), cv2.COLOR_RGB2BGR))\n",
    "\n",
    "        axs[i, j].imshow(pattern_img, cmap='gray')  # Display pattern image in grayscale\n",
    "        axs[i, j].set_title(f'{subdir}')\n",
    "        axs[i, j].axis('off')\n",
    "\n",
    "# Hide empty subplots (not necessary since we ensure the number of images matches the subplots)\n",
    "for i in range(num_rows):\n",
    "    for j in range(num_images_per_directory, num_cols):\n",
    "        axs[i, j].axis('off')\n",
    "\n",
    "plt.tight_layout()\n",
    "plt.show()"
   ]
  },
  {
   "cell_type": "code",
   "execution_count": null,
   "id": "10aa1603",
   "metadata": {
    "scrolled": false
   },
   "outputs": [],
   "source": [
    "# Load the base ResNet50 model without the top layer\n",
    "base_model = ResNet50(weights='imagenet', include_top=False, input_shape=(224, 224, 3))"
   ]
  },
  {
   "cell_type": "code",
   "execution_count": null,
   "id": "93ccd715",
   "metadata": {},
   "outputs": [],
   "source": [
    "# Add custom layers on top of the base model\n",
    "x = base_model.output\n",
    "x = GlobalAveragePooling2D()(x)\n",
    "x = Dense(512, activation='relu')(x)\n",
    "x = Dropout(0.5)(x)\n",
    "x = Dense(256, activation='relu')(x)\n",
    "x = Dropout(0.5)(x)\n",
    "predictions = Dense(len(subdirectories), activation='softmax')(x)"
   ]
  },
  {
   "cell_type": "markdown",
   "id": "ab69d967",
   "metadata": {},
   "source": [
    "### Model Evaluation"
   ]
  },
  {
   "cell_type": "code",
   "execution_count": null,
   "id": "a0d56d7b",
   "metadata": {},
   "outputs": [],
   "source": [
    "# Create the complete model\n",
    "model = Model(inputs=base_model.input, outputs=predictions)\n",
    "\n",
    "# Compile the model\n",
    "model.compile(optimizer=Adam(learning_rate=0.0001), loss='categorical_crossentropy', metrics=['accuracy'])"
   ]
  },
  {
   "cell_type": "code",
   "execution_count": null,
   "id": "05e4e3f9",
   "metadata": {},
   "outputs": [],
   "source": [
    "model.summary()"
   ]
  },
  {
   "cell_type": "code",
   "execution_count": null,
   "id": "f779f76e",
   "metadata": {},
   "outputs": [],
   "source": [
    "# Train the model\n",
    "model.fit(X_train, y_train, epochs=10, batch_size=20, validation_data=(X_test, y_test))"
   ]
  },
  {
   "cell_type": "code",
   "execution_count": null,
   "id": "00595ed5",
   "metadata": {
    "scrolled": true
   },
   "outputs": [],
   "source": [
    "plt.figure(figsize=(6, 6))\n",
    "plt.plot(history.history['accuracy'], color='blue', label='Training Accuracy')\n",
    "plt.plot(history.history['val_accuracy'], color='red', label='Validation Accuracy')\n",
    "plt.title('Model Accuracy')\n",
    "plt.xlabel('Epoch')\n",
    "plt.ylabel('Accuracy')\n",
    "plt.legend()\n",
    "plt.show()"
   ]
  },
  {
   "cell_type": "code",
   "execution_count": null,
   "id": "82b1c6db",
   "metadata": {},
   "outputs": [],
   "source": [
    "plt.figure(figsize=(6, 6))\n",
    "plt.plot(history.history['loss'], color='blue', label='Training Loss')\n",
    "plt.plot(history.history['val_loss'], color='red', label='Validation Loss')\n",
    "plt.title('Model Loss')\n",
    "plt.xlabel('Epoch')\n",
    "plt.ylabel('Loss')\n",
    "plt.legend()\n",
    "plt.show()"
   ]
  },
  {
   "cell_type": "code",
   "execution_count": null,
   "id": "1efe0b0c",
   "metadata": {},
   "outputs": [],
   "source": [
    "# Prepare to identify correct predictions\n",
    "correct_images_per_dir = {subdir: [] for subdir in subdirectories}"
   ]
  },
  {
   "cell_type": "code",
   "execution_count": null,
   "id": "f50be5e5",
   "metadata": {},
   "outputs": [],
   "source": [
    "# Predict and identify correct images\n",
    "for subdir in subdirectories:\n",
    "    subdir_images = [img for img, label in zip(preprocessed_images, labels) if label == subdir][:50]\n",
    "    \n",
    "    if len(subdir_images) == 0:\n",
    "        continue\n",
    "\n",
    "    subdir_images = np.array(subdir_images)\n",
    "    predictions = model.predict(subdir_images)\n",
    "    \n",
    "    for img, prediction in zip(subdir_images, predictions):\n",
    "        predicted_label = label_encoder.inverse_transform([np.argmax(prediction)])[0]\n",
    "        if predicted_label == subdir:\n",
    "            correct_images_per_dir[subdir].append(img)\n",
    "        if len(correct_images_per_dir[subdir]) >= 5:\n",
    "            break"
   ]
  },
  {
   "cell_type": "markdown",
   "id": "57a36053",
   "metadata": {},
   "source": [
    "### Final Results"
   ]
  },
  {
   "cell_type": "code",
   "execution_count": null,
   "id": "1e1d3c33",
   "metadata": {},
   "outputs": [],
   "source": [
    "# Display the first 5 correctly identified images with patterns from each directory\n",
    "num_images_per_directory = 5\n",
    "\n",
    "fig, axs = plt.subplots(len(subdirectories), num_images_per_directory, figsize=(3 * num_images_per_directory, 3 * len(subdirectories)))\n",
    "\n",
    "for i, subdir in enumerate(subdirectories):\n",
    "    for j, img in enumerate(correct_images_per_dir[subdir]):\n",
    "        pattern_img = identify_patterns(cv2.cvtColor((img * 255).astype(np.uint8), cv2.COLOR_RGB2BGR))\n",
    "        \n",
    "        axs[i, j].imshow(pattern_img, cmap='gray')  # Display pattern image in grayscale\n",
    "        axs[i, j].set_title(f'Identified Patterns for {subdir}')\n",
    "        axs[i, j].axis('off')\n",
    "\n",
    "    # Hide empty subplots\n",
    "    for j in range(len(correct_images_per_dir[subdir]), num_images_per_directory):\n",
    "        axs[i, j].axis('off')\n",
    "\n",
    "plt.tight_layout()\n",
    "plt.show()"
   ]
  },
  {
   "cell_type": "code",
   "execution_count": null,
   "id": "44c3f7cb",
   "metadata": {},
   "outputs": [],
   "source": []
  }
 ],
 "metadata": {
  "kernelspec": {
   "display_name": "Python 3 (ipykernel)",
   "language": "python",
   "name": "python3"
  },
  "language_info": {
   "codemirror_mode": {
    "name": "ipython",
    "version": 3
   },
   "file_extension": ".py",
   "mimetype": "text/x-python",
   "name": "python",
   "nbconvert_exporter": "python",
   "pygments_lexer": "ipython3",
   "version": "3.10.13"
  }
 },
 "nbformat": 4,
 "nbformat_minor": 5
}
